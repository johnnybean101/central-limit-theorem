{
 "cells": [
  {
   "cell_type": "code",
   "execution_count": 2,
   "metadata": {},
   "outputs": [],
   "source": [
    "# Import Libraries\n",
    "##################################################################################\n",
    "import numpy as np\n",
    "from numpy.random import shuffle\n",
    "import matplotlib.pyplot as plt\n",
    "##################################################################################"
   ]
  },
  {
   "cell_type": "code",
   "execution_count": 3,
   "metadata": {},
   "outputs": [],
   "source": [
    "# Define Functions\n",
    "##################################################################################\n",
    "# plot probability distribution for a given discrete random variable\n",
    "def plot_pDist(x, p_x):\n",
    "    fig, ax = plt.subplots(figsize=(10,5))\n",
    "    ax.bar(x, p_x, color='#0504aa', alpha=0.7)\n",
    "    ax.set_xlabel('x', fontsize=15)\n",
    "    ax.set_ylabel('p(x)', fontsize=15)\n",
    "    ax.set_title('Probability Distribution of Random Variable x', fontsize=15)\n",
    "    ax.spines[\"top\"].set_visible(False)  \n",
    "    ax.spines[\"right\"].set_visible(False)\n",
    "##################################################################################\n",
    "# return sample means with sample size n\n",
    "def get_sample_mean(x, p_x, n, n_s):\n",
    "    sample_means = np.zeros(n_s)\n",
    "    for index, value in enumerate(sample_means):\n",
    "        sample_means[index] = np.average(np.random.choice(x, n, p=p_x))\n",
    "    return sample_means\n",
    "##################################################################################\n",
    "# plot sampling distribution for a given discrete random variable\n",
    "def plot_sDist(sample_means):\n",
    "    fig, ax = plt.subplots(figsize=(10,5))\n",
    "    ax.hist(sample_means, color='#0504aa', alpha=0.7)\n",
    "    ax.set_xlabel('Sample Mean', fontsize=15)\n",
    "    ax.set_ylabel('Frequency', fontsize=15)\n",
    "    ax.set_title('Sampling Distribution of Random Variable x', fontsize=15)\n",
    "    ax.spines[\"top\"].set_visible(False)  \n",
    "    ax.spines[\"right\"].set_visible(False)"
   ]
  },
  {
   "cell_type": "code",
   "execution_count": 8,
   "metadata": {},
   "outputs": [
    {
     "name": "stdout",
     "output_type": "stream",
     "text": [
      "Population Mean: 2.6\n",
      "Population Variance: 3.9733333333333336\n",
      "Population Standard Deviation: 1.9933221850301406\n"
     ]
    },
    {
     "data": {
      "image/png": "[encoded data removed]",
      "text/plain": [
       "<Figure size 720x360 with 1 Axes>"
      ]
     },
     "metadata": {
      "needs_background": "light"
     },
     "output_type": "display_data"
    }
   ],
   "source": [
    "# Define Probability Distribution #\n",
    "##################################################################################\n",
    "# set n_x possible discrete values and their corresponding probabilities p_x\n",
    "n_x = 5 \n",
    "x = np.arange(n_x+1)\n",
    "p_x = x/np.sum(x)\n",
    "shuffle(p_x)\n",
    "##################################################################################\n",
    "# calculate population mean, population variance, and population standard deviation\n",
    "p_mean = np.sum(np.multiply(x, p_x))\n",
    "p_var = np.sum(np.multiply(np.square(x - p_mean), p_x))\n",
    "p_std = np.sqrt(p_var)\n",
    "print('Population Mean: ' + str(p_mean))\n",
    "print('Population Variance: ' + str(p_var))\n",
    "print('Population Standard Deviation: ' + str(p_std))\n",
    "##################################################################################\n",
    "# plot probability distribution\n",
    "plot_pDist(x, p_x)"
   ]
  },
  {
   "cell_type": "code",
   "execution_count": 9,
   "metadata": {},
   "outputs": [
    {
     "name": "stdout",
     "output_type": "stream",
     "text": [
      "Sample Mean: 2.6450000000000005\n",
      "Sample Variance: 0.350875\n",
      "Sample Standard Deviation: 0.5923470266659571\n"
     ]
    },
    {
     "data": {
      "image/png": "[encoded data removed]",
      "text/plain": [
       "<Figure size 720x360 with 1 Axes>"
      ]
     },
     "metadata": {
      "needs_background": "light"
     },
     "output_type": "display_data"
    }
   ],
   "source": [
    "##################################################################################\n",
    "# set sample size n and number of samples n_s\n",
    "n = 10\n",
    "n_s = 100\n",
    "##################################################################################\n",
    "# calculate n_s sample means\n",
    "sample_means = get_sample_mean(x, p_x, n, n_s)\n",
    "##################################################################################\n",
    "# calculate population mean, population variance, and population standard deviation\n",
    "s_mean = np.average(sample_means)\n",
    "s_var = np.var(sample_means)\n",
    "s_std = np.std(sample_means)\n",
    "print('Sample Mean: ' + str(s_mean))\n",
    "print('Sample Variance: ' + str(s_var))\n",
    "print('Sample Standard Deviation: ' + str(s_std))\n",
    "##################################################################################\n",
    "# plot sampling distribution\n",
    "plot_sDist(sample_means)"
   ]
  }
 ],
 "metadata": {
  "kernelspec": {
   "display_name": "Python 3",
   "language": "python",
   "name": "python3"
  },
  "language_info": {
   "codemirror_mode": {
    "name": "ipython",
    "version": 3
   },
   "file_extension": ".py",
   "mimetype": "text/x-python",
   "name": "python",
   "nbconvert_exporter": "python",
   "pygments_lexer": "ipython3",
   "version": "3.7.4"
  }
 },
 "nbformat": 4,
 "nbformat_minor": 2
}
